{
 "cells": [
  {
   "cell_type": "code",
   "execution_count": null,
   "metadata": {},
   "outputs": [],
   "source": [
    "1. In the below elements which of them are values or an expression? eg:- values can be integer or string and expressions will be mathematical operators.\n",
    "    *  - Expression\n",
    "    'hello' - Value\n",
    "    -87.8 - Value\n",
    "    -  - Expression\n",
    "    /  - Expression\n",
    "    +\t- Expression\n",
    "    6  - Value\n",
    "\n",
    "2. What is the difference between string and variable?\n",
    "    Solution:\n",
    "    String = String is a sequence of characters\n",
    "    Variable = variable is a local instance or global instance where data is stored\n",
    "\n",
    "3. Describe three different data types.\n",
    "    Solution:\n",
    "    Numeric data type – can be integers (6), float (6.32) or complex numbers (3+4j)\n",
    "    String – sequence of characters. Ex: “Science”\n",
    "    Boolean – True or False\n",
    "    \n",
    "4. What is an expression made up of? What do all expressions do?\n",
    "    Solution: Expressions are made of values, variables, operators and call to function. They evaluate to something.\n",
    "        \n",
    "5. This assignment statements, like spam = 10. What is the difference between an expression and a statement?\n",
    "    Solution:\n",
    "    Expressions evaluate to something. Ex: n +5\n",
    "    Statements are either assigning or updating variables or any python line that contains a keyword like print() etc.\n",
    "    \n",
    "6. After running the following code, what does the variable bacon contain?\n",
    "bacon = 22\n",
    "bacon + 1\n",
    "    Solution: Bacon contains 23\n",
    "\n",
    "7. What should the values of the following two terms be?\n",
    "    'spam' + 'spamspam' = ‘spamspamspam’\n",
    "    'spam' * 3 = ‘spamspamspam’\n",
    "    \n",
    "8. Why is eggs a valid variable name while 100 is invalid?\n",
    "    Solution:\n",
    "    First character of a variable name cannot be a digit hence 100 is an invalid variable name\n",
    "    \n",
    "9. What three functions can be used to get the integer, floating-point number, or string version of a value?\n",
    "    Solution:\n",
    "    Int(), float() and str()\n",
    "    \n",
    "10. Why does this expression cause an error? How can you fix it?\n",
    "'I have eaten ' + 99 + ' burritos.'\n",
    "    Solution:\n",
    "    Error is because we are trying to concatenate string and integer. If we change 99 to string by using quotes (‘99’) or using str(99), it will work.\n",
    "\n"
   ]
  }
 ],
 "metadata": {
  "kernelspec": {
   "display_name": "Python 3",
   "language": "python",
   "name": "python3"
  },
  "language_info": {
   "codemirror_mode": {
    "name": "ipython",
    "version": 3
   },
   "file_extension": ".py",
   "mimetype": "text/x-python",
   "name": "python",
   "nbconvert_exporter": "python",
   "pygments_lexer": "ipython3",
   "version": "3.7.4"
  }
 },
 "nbformat": 4,
 "nbformat_minor": 2
}
