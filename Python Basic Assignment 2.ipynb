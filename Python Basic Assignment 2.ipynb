{
 "cells": [
  {
   "cell_type": "markdown",
   "metadata": {},
   "source": [
    "1.What are the two values of the Boolean data type? How do you write them?\n",
    "    Solution: True and False. We can write expressions and evaluate if it equals to True or False. Ex: Print(5>4)\n",
    "\n",
    "2. What are the three different types of Boolean operators?\n",
    "    Solution: AND, OR, NOT\n",
    "\n",
    "3. Make a list of each Boolean operator's truth tables (i.e. every possible combination of \n",
    "   Boolean values for the operator and what it evaluate ).\n",
    "    Solution:\n",
    "    AND: 0 0 = 0\n",
    "         1 0 = 0\n",
    "         0 1 = 0\n",
    "         1 1 = 1\n",
    "            \n",
    "    OR: 0 0 = 0\n",
    "        1 0 = 1\n",
    "        0 1 = 1\n",
    "        1 1 = 1\n",
    "        \n",
    "    NOT: NOT 1 = 0\n",
    "         NOT 0 = 1\n",
    "\n",
    "4. What are the values of the following expressions?\n",
    "    Solution:\n",
    "    (5 > 4) and (3 == 5) = False\n",
    "    not (5 > 4) = False\n",
    "    (5 > 4) or (3 == 5) = True\n",
    "    not ((5 > 4) or (3 == 5)) = False\n",
    "    (True and True) and (True == False) = False\n",
    "    (not False) or (not True) = True\n",
    "     \n",
    "\n",
    "5. What are the six comparison operators?\n",
    "    Solution: equal to (==), not equal to (!=), greater than (>), less than (<), less than or equal to (<=), greater     than or equal to (>=)\n",
    "\n",
    "6. How do you tell the difference between the equal to and assignment operators?Describe a condition and when you would use one.\n",
    "    Solution: equal operator denoted by '==' is used to check value of a variable, assignment operator denoted \n",
    "    by '=' is used to assign a value to a variable. when we say x==5, it is to check if value of x is equal to 5, \n",
    "    when we use x=5, we are assigning x with value 5.\n",
    "\n",
    "7. Identify the three blocks in this code:\n",
    "    Solution:\n",
    "    Block 1:\n",
    "    spam = 0\n",
    "    if spam == 10:\n",
    "       print('eggs')\n",
    "       \n",
    "    Block 2:\n",
    "    if spam > 5:\n",
    "       print('bacon')\n",
    "    else:\n",
    "       print('ham')\n",
    "\n",
    "    Block 3:\n",
    "    print('spam')\n",
    "    print('spam')\n",
    "\n",
    "8. Write code that prints Hello if 1 is stored in spam, prints Howdy if 2 is stored in spam, and prints Greetings! if anything else is stored in spam.\n",
    "\n",
    "    Solution:\n",
    "    if spam == 1:\n",
    "       print('Hello')\n",
    "    elif spam == 2:\n",
    "       print('Howdy')\n",
    "    else:\n",
    "       print('Greetings!')\n",
    "\n",
    "9.If your programme is stuck in an endless loop, what keys you’ll press?\n",
    "    Soltuion: Ctrl + C\n",
    "\n",
    "10. How can you tell the difference between break and continue?\n",
    "        Solution: Break exits the loop, Continue will immediately jump to next iteration without running rest of \n",
    "        the code in the current iteration\n",
    "\n",
    "11. In a for loop, what is the difference between range(10), range(0, 10), and range(0, 10, 1)?\n",
    "    Solution: All three function the same which is iterate from 0 to 9\n",
    "    \n",
    "12. Write a short program that prints the numbers 1 to 10 using a for loop. Then write an equivalent program that prints the numbers 1 to 10 using a while loop.\n",
    "    Solution: \n",
    "    for i in range(1, 11):\n",
    "        print(i)\n",
    "\n",
    "    c = 11\n",
    "    i=1\n",
    "    while i < c:\n",
    "        print(i)\n",
    "        i = i+1\n",
    "\n",
    "13. If you had a function named bacon() inside a module named spam, how would you call it after importing spam?\n",
    "    Solution: spam.bacon()\n"
   ]
  },
  {
   "cell_type": "code",
   "execution_count": 6,
   "metadata": {},
   "outputs": [
    {
     "name": "stdout",
     "output_type": "stream",
     "text": [
      "Greetings!\n"
     ]
    }
   ],
   "source": [
    "spam = 0\n",
    "if spam == 1:\n",
    "   print('Hello')\n",
    "elif spam == 2:\n",
    "   print('Howdy')\n",
    "else:\n",
    "   print('Greetings!')\n"
   ]
  },
  {
   "cell_type": "code",
   "execution_count": 10,
   "metadata": {},
   "outputs": [
    {
     "name": "stdout",
     "output_type": "stream",
     "text": [
      "0\n",
      "1\n",
      "2\n",
      "3\n",
      "4\n",
      "5\n",
      "6\n",
      "7\n",
      "8\n",
      "9\n"
     ]
    }
   ],
   "source": [
    "for i in range(10):\n",
    "    print(i)"
   ]
  },
  {
   "cell_type": "code",
   "execution_count": 11,
   "metadata": {},
   "outputs": [
    {
     "name": "stdout",
     "output_type": "stream",
     "text": [
      "0\n",
      "1\n",
      "2\n",
      "3\n",
      "4\n",
      "5\n",
      "6\n",
      "7\n",
      "8\n",
      "9\n"
     ]
    }
   ],
   "source": [
    "for i in range(0, 10):\n",
    "    print(i)"
   ]
  },
  {
   "cell_type": "code",
   "execution_count": 12,
   "metadata": {},
   "outputs": [
    {
     "name": "stdout",
     "output_type": "stream",
     "text": [
      "0\n",
      "1\n",
      "2\n",
      "3\n",
      "4\n",
      "5\n",
      "6\n",
      "7\n",
      "8\n",
      "9\n"
     ]
    }
   ],
   "source": [
    "for i in range(0, 10, 1):\n",
    "    print(i)"
   ]
  },
  {
   "cell_type": "code",
   "execution_count": 16,
   "metadata": {},
   "outputs": [
    {
     "name": "stdout",
     "output_type": "stream",
     "text": [
      "1\n",
      "2\n",
      "3\n",
      "4\n",
      "5\n",
      "6\n",
      "7\n",
      "8\n",
      "9\n",
      "10\n"
     ]
    }
   ],
   "source": [
    "#prints the numbers 1 to 10 using a for loop. \n",
    "\n",
    "for i in range(1, 11):\n",
    "    print(i)"
   ]
  },
  {
   "cell_type": "code",
   "execution_count": 18,
   "metadata": {},
   "outputs": [
    {
     "name": "stdout",
     "output_type": "stream",
     "text": [
      "1\n",
      "2\n",
      "3\n",
      "4\n",
      "5\n",
      "6\n",
      "7\n",
      "8\n",
      "9\n",
      "10\n"
     ]
    }
   ],
   "source": [
    "#Then write an equivalent program that prints the numbers 1 to 10 using a while loop.\n",
    "i=1\n",
    "while i < 11:\n",
    "    print(i)\n",
    "    i = i+1"
   ]
  },
  {
   "cell_type": "code",
   "execution_count": null,
   "metadata": {},
   "outputs": [],
   "source": []
  }
 ],
 "metadata": {
  "kernelspec": {
   "display_name": "Python 3",
   "language": "python",
   "name": "python3"
  },
  "language_info": {
   "codemirror_mode": {
    "name": "ipython",
    "version": 3
   },
   "file_extension": ".py",
   "mimetype": "text/x-python",
   "name": "python",
   "nbconvert_exporter": "python",
   "pygments_lexer": "ipython3",
   "version": "3.7.4"
  }
 },
 "nbformat": 4,
 "nbformat_minor": 2
}
